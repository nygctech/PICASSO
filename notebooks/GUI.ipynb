{
 "cells": [
  {
   "cell_type": "code",
   "execution_count": 305,
   "id": "b5ca323e",
   "metadata": {
    "scrolled": false
   },
   "outputs": [
    {
     "name": "stdout",
     "output_type": "stream",
     "text": [
      "test\n"
     ]
    }
   ],
   "source": [
    "from typing import  List\n",
    "\n",
    "from magicgui.widgets import PushButton, FloatSlider, ComboBox, Label\n",
    "from magicgui import magicgui\n",
    "from skimage import data\n",
    "import napari\n",
    "\n",
    "\n",
    "@magicgui(\n",
    "    auto_call = True,\n",
    "    new_pair_button = {\"widget_type\": \"PushButton\", 'label':'new pair'},\n",
    "    test = {\"widget_type\": \"FloatSlider\", 'max': 2},\n",
    "    images = {'visible':False}\n",
    ")\n",
    "def napari_plugin(\n",
    "    new_pair_button,\n",
    "    images: napari.layers.Image,\n",
    "    test:float = 1.0,\n",
    ") -> List[napari.types.LayerDataTuple]:\n",
    "\n",
    "    mixing_data = napari_plugin.asdict()\n",
    "    pairs = [p.split(' ')[-1] for p in list(mixing_data) if 'alpha' in p]\n",
    "    print(pairs)\n",
    "    \n",
    "    unmixed = []\n",
    "    for p in pairs:\n",
    "        source = mixing_data['source_'+p]\n",
    "        sink = mixing_data['sink_'+p]\n",
    "        alpha = mixing_data['alpha_'+p]\n",
    "    \n",
    "        if source is not None and sink is not None:\n",
    "            sink_ = sink.data - alpha*source.data\n",
    "            #unmixed.append((sink_, {'name':'pair '+p}, 'image'))\n",
    "            \n",
    "    if len(unmixed) > 0:\n",
    "        return unmixed\n",
    "\n",
    "\n",
    "# # # set up callbacks\n",
    "@napari_plugin.new_pair_button.clicked.connect\n",
    "def new_pair():\n",
    "    \n",
    "    # Get unique index for image pairs\n",
    "    widget_names = list(napari_plugin.asdict())\n",
    "    print(widget_names)\n",
    "    index = (len(widget_names)-2)\n",
    "#     while 'delete_'+str(index) in widget_names:\n",
    "#         index += 1\n",
    "    index = str(index)\n",
    "    print(index)\n",
    "    im_choices = (None,) + napari_plugin.images.choices\n",
    "          \n",
    "    # define widgets with names\n",
    "    label = Label(label = 'pair '+index, name='pair_'+index)\n",
    "    delete_button = PushButton(label='delete', name='delete_'+index) \n",
    "    source = ComboBox(choices=im_choices, label='source', name='source_'+index)\n",
    "    sink = ComboBox(choices=im_choices, label='sink', name='sink_'+index)\n",
    "    alpha = FloatSlider(max=2.0, label='alpha', value = 0.0, name='alpha_'+index)\n",
    "    \n",
    "#     # define widget without names\n",
    "#     label = Label(label='pair '+index) \n",
    "#     source = ComboBox(choices=im_choices, label='source')\n",
    "#     sink = ComboBox(choices=im_choices, label='sink')\n",
    "#     alpha = FloatSlider(max=2.0, label='alpha', value = 0.0)\n",
    "    \n",
    "    # delete button callback\n",
    "    @delete_button.changed.connect\n",
    "    def delete_pair():\n",
    "        index = delete_button.name.split('_')[-1]\n",
    "        for w in ['pair', 'delete','source', 'sink', 'alpha']:\n",
    "            napari_plugin.remove(w+'_'+index)\n",
    "    \n",
    "    #Add widgets\n",
    "    new_pair = [label, delete_button, source, sink, alpha]\n",
    "    #new_pair =  [label, source, sink, alpha]\n",
    "    napari_plugin.extend(new_pair)\n",
    "    \n",
    "    widget_names = list(napari_plugin.asdict())\n",
    "    print(widget_names)\n",
    "    \n",
    "\n",
    "\n",
    "rgb_im = data.astronaut()\n",
    "viewer = napari.Viewer()\n",
    "viewer.add_image(rgb_im[:,:,0].squeeze(), name= 'red', blending='additive', colormap='red')\n",
    "viewer.add_image(rgb_im[:,:,1].squeeze(), name= 'green', blending='additive', colormap='green')\n",
    "viewer.add_image(rgb_im[:,:,2].squeeze(), name= 'blue', blending='additive', colormap='blue')\n",
    "widget = viewer.window.add_dock_widget(napari_plugin, name='PICASSO')"
   ]
  },
  {
   "cell_type": "code",
   "execution_count": 159,
   "id": "b281dce0",
   "metadata": {},
   "outputs": [
    {
     "data": {
      "text/plain": [
       "<napari._qt.widgets.qt_viewer_dock_widget.QtViewerDockWidget at 0x1f6d22c4b80>"
      ]
     },
     "execution_count": 159,
     "metadata": {},
     "output_type": "execute_result"
    }
   ],
   "source": [
    "from magicgui.widgets import PushButton, FloatSlider, Container, ComboBox\n",
    "from napari.types import ImageData\n",
    "\n",
    "# make some widgets\n",
    "add_new_button = PushButton(name='add')\n",
    "\n",
    "# set up callbacks\n",
    "@add_new_button.changed.connect\n",
    "def add_pair():\n",
    "    container.extend([Container(widgets=[ComboBox(choices=[ImageData]),\n",
    "                                         ComboBox(choices=[ImageData]),\n",
    "                                         FloatSlider(max=2),\n",
    "                                        ])])\n",
    "\n",
    "# create a container to hold the widgets:\n",
    "container = Container(name='BigContainer', widgets=[add_new_button])\n",
    "rgb_im = data.astronaut()\n",
    "viewer = napari.Viewer()\n",
    "viewer.add_image(rgb_im[:,:,0].squeeze(), name= 'red')\n",
    "viewer.add_image(rgb_im[:,:,1].squeeze(), name= 'green')\n",
    "viewer.window.add_dock_widget(container)"
   ]
  },
  {
   "cell_type": "code",
   "execution_count": 160,
   "id": "e6867a14",
   "metadata": {},
   "outputs": [],
   "source": [
    "from magicgui.widgets import FunctionGui\n",
    "\n",
    "def my_function(source, sink, alpha):\n",
    "    return sink - alpha*source\n",
    "\n",
    "class MyGui(FunctionGui):\n",
    "    def __init__(self):\n",
    "        super().__init__(\n",
    "          my_function,\n",
    "          call_button=True,\n",
    "          layout='vertical',\n",
    "          param_options={...}\n",
    "        )\n",
    "        # do whatever other initialization you want here"
   ]
  }
 ],
 "metadata": {
  "kernelspec": {
   "display_name": "Python 3",
   "language": "python",
   "name": "python3"
  },
  "language_info": {
   "codemirror_mode": {
    "name": "ipython",
    "version": 3
   },
   "file_extension": ".py",
   "mimetype": "text/x-python",
   "name": "python",
   "nbconvert_exporter": "python",
   "pygments_lexer": "ipython3",
   "version": "3.9.10"
  }
 },
 "nbformat": 4,
 "nbformat_minor": 5
}
