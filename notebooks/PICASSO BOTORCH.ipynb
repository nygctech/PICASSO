{
 "cells": [
  {
   "cell_type": "code",
   "execution_count": 1,
   "id": "5599e50b",
   "metadata": {},
   "outputs": [
    {
     "data": {
      "text/plain": [
       "<module 'mine' from 'C:\\\\Users\\\\kpandit\\\\PICASSO\\\\picasso\\\\mine.py'>"
      ]
     },
     "execution_count": 1,
     "metadata": {},
     "output_type": "execute_result"
    }
   ],
   "source": [
    "import sys\n",
    "import torch\n",
    "import torch.nn as nn\n",
    "from torch.utils.data import DataLoader\n",
    "import numpy as np\n",
    "import importlib\n",
    "\n",
    "sys.path.append('C:\\\\Users\\\\kpandit\\\\PICASSO\\\\picasso\\\\')\n",
    "import mine\n",
    "importlib.reload(mine)"
   ]
  },
  {
   "cell_type": "code",
   "execution_count": 2,
   "id": "ee64b8f2",
   "metadata": {},
   "outputs": [
    {
     "data": {
      "text/plain": [
       "<Figure size 640x480 with 2 Axes>"
      ]
     },
     "metadata": {},
     "output_type": "display_data"
    }
   ],
   "source": [
    "import matplotlib.pyplot as plt\n",
    "\n",
    "px_size = 256\n",
    "mixing_parameter = 0.5\n",
    "bit_depth = 12\n",
    "signal_min = 1000\n",
    "\n",
    "max_px = 2**bit_depth-1\n",
    "# Source fluorescence\n",
    "source_bg = torch.randint(low=90, high=120, size=(px_size,px_size), dtype=torch.int16)  # background\n",
    "#source_signal = torch.randint(low=signal_min, high=max_px, size=(px_size,px_size), dtype=torch.int16)\n",
    "px_i = int(px_size/3)\n",
    "source_signal = torch.zeros_like(source_bg)\n",
    "source_signal[0:px_i,0:px_i] = 3000\n",
    "source = source_bg+source_signal\n",
    "# Sink fluorescence\n",
    "sink_bg = torch.randint(low=100, high=135, size=(px_size,px_size), dtype=torch.int16)  # background\n",
    "sink_signal = torch.zeros_like(source_bg)\n",
    "sink_signal[px_size-px_i:px_size,px_size-px_i:px_size] = 3000\n",
    "# Spillover fluorecence\n",
    "spill = mixing_parameter*source_signal       # spillover\n",
    "spill = spill.type(torch.int16)\n",
    "sink = sink_bg+sink_signal+spill\n",
    "sink = sink.clamp(max=4095)\n",
    "\n",
    "\n",
    "fig, axs = plt.subplots(1,2)\n",
    "axs[0].imshow(source)\n",
    "axs[0].set_title('Source')\n",
    "axs[0].axis('off')\n",
    "axs[1].imshow(sink)\n",
    "axs[1].set_title('Sink')\n",
    "axs[1].axis('off')\n",
    "            \n",
    "plt.show()\n",
    "\n",
    "source = source.flatten()\n",
    "#source = source.flatten().long()\n",
    "#source = source.unsqueeze(dim=0)\n",
    "sink = sink.flatten()\n",
    "if torch.cuda.is_available():\n",
    "    device = 'cuda'\n",
    "else:\n",
    "    device = 'cpu'\n",
    "source = source.to(device)\n",
    "sink = sink.to(device)"
   ]
  },
  {
   "cell_type": "markdown",
   "id": "c5c84be1",
   "metadata": {},
   "source": [
    "Minimize Mutual Information using Bayesian Optimization\n",
    "\n",
    "Model: Neural net to transform source fluorescence into spill over fluorescence in the sink channel\n",
    "\n",
    "Posterior: needs single posterior() method that takes in a Tensor X of design points, and returns a Posterior object describing the (joint) probability distribution of the model output(s) over the design points in X.\n",
    "Use Joint Distribution of source and sink - network(source) pixel values\n",
    "\n",
    "Acquisition: Heuristics employed to evaluate the usefulness of one of more design points for achieving the objective of maximizing the underlying black box function.\n",
    "Use MutualInformation(source, sink - network(source))"
   ]
  },
  {
   "cell_type": "code",
   "execution_count": 3,
   "id": "3f07518b",
   "metadata": {},
   "outputs": [],
   "source": [
    "from botorch.models.model import Model\n",
    "from botorch.acquisition.monte_carlo import MCAcquisitionFunction\n",
    "from botorch.posteriors.deterministic import DeterministicPosterior\n",
    "import picasso\n",
    "from picasso import joint_distribution\n",
    "from botorch.sampling.samplers import MCSampler, SobolQMCNormalSampler\n",
    "from botorch.utils import t_batch_mode_transform\n",
    "\n",
    "import picasso\n",
    "importlib.reload(picasso)\n",
    "from picasso import joint_distribution\n",
    "\n",
    "from torch import Tensor\n",
    "from typing import Optional \n",
    "\n",
    "\n",
    "\n",
    "class PICASSObo(Model):\n",
    "    def __init__(self, transformer = None, min_px=0, max_px = 4095, device=None):\n",
    "        \n",
    "        super().__init__()\n",
    "        \n",
    "        if torch.cuda.is_available():\n",
    "            self.device = 'cuda'\n",
    "        else:\n",
    "            self.device = 'cpu'\n",
    "            \n",
    "        if transformer is None:\n",
    "            self.tranform_inputs = nn.Sequential(\n",
    "                nn.Linear(1, 8),\n",
    "                nn.ReLU(),\n",
    "                nn.Linear(8, 8),\n",
    "                nn.ReLU(),\n",
    "                nn.Linear(8,1),\n",
    "                nn.Hardtanh(min_val=min_px, max_val=max_px)\n",
    "            )\n",
    "        self.tranform_inputs.to(self.device)\n",
    "        \n",
    "        self.min_px = torch.tensor(min_px,device=self.device)\n",
    "        self.max_px = torch.tensor(max_px,device=self.device)\n",
    "        self.Pxy = None\n",
    "        \n",
    "    def posterior(self, source, sink):\n",
    "        \n",
    "        self.eval()\n",
    "        \n",
    "        print(source.size())\n",
    "        \n",
    "\n",
    "        self.Pxy = Pxy\n",
    "        \n",
    "        return DeterministicPosterior(self.Pxy[source.long(),:])\n",
    "    \n",
    "    def update_Pxy(self, source, sink):\n",
    "        \n",
    "        spill = self.transform_inputs(source).long()\n",
    "        \n",
    "        minpx = self.min_px\n",
    "        maxpx = self.max_px\n",
    "        Pxy, edges = joint_distribution(source, sink-spill, xmin=minpx, xmax=maxpx, ymin=minpx, ymax=maxpx)\n",
    "        \n",
    "        if self.Pxy is None:\n",
    "            self.Pxy = self.posterior(source, sink)\n",
    "        else:\n",
    "            Pxy = self.posterior(source, sink)\n",
    "            self.Pxy = (self.Pxy + Pxy)/2\n",
    "            \n",
    "        return DeterministicPosterior(self.Pxy[])\n",
    "  \n",
    "\n",
    "class MutualInformation(MCAcquisitionFunction):\n",
    "    def __init__(\n",
    "        self,\n",
    "        model: Model,\n",
    "        beta: Tensor,\n",
    "        weights: Tensor,\n",
    "        sampler: Optional[MCSampler] = None,\n",
    "    ) -> None:\n",
    "        # we use the AcquisitionFunction constructor, since that of \n",
    "        # MCAcquisitionFunction performs some validity checks that we don't want here\n",
    "        super(MCAcquisitionFunction, self).__init__(model=model)\n",
    "        if sampler is None:\n",
    "            sampler = SobolQMCNormalSampler(num_samples=512, collapse_batch_dims=True)\n",
    "        self.sampler = sampler\n",
    "        self.register_buffer(\"beta\", torch.as_tensor(beta))\n",
    "        self.register_buffer(\"weights\", torch.as_tensor(weights))\n",
    "\n",
    "    @t_batch_mode_transform()\n",
    "    def forward(self, source: Tensor, sink:Tensor) -> Tensor:\n",
    "        \"\"\"Evaluate mutual information between `X` and `Y`.\n",
    "\n",
    "        Args:\n",
    "            XY: A `(b) x q x d`-dim Tensor of `(b)` t-batches with `q` `d`-dim\n",
    "                design points each.\n",
    "\n",
    "        Returns:\n",
    "            Tensor: A `(b)`-dim Tensor of Upper Confidence Bound values at the\n",
    "                given design points `X`.\n",
    "        \"\"\"\n",
    "        \n",
    "        posterior = self.model.posterior(source, sink)\n",
    "        samples = self.sampler(posterior)  # n x b x q x o\n",
    "        scalarized_samples = samples.matmul(self.weights)  # n x b x q\n",
    "        mean = posterior.mean  # b x q x o\n",
    "        scalarized_mean = mean.matmul(self.weights)  # b x q\n",
    "        ucb_samples = (\n",
    "            scalarized_mean\n",
    "            + math.sqrt(self.beta * math.pi / 2)\n",
    "            * (scalarized_samples - scalarized_mean).abs()\n",
    "        )\n",
    "        return ucb_samples.max(dim=-1)[0].mean(dim=0)\n",
    "    "
   ]
  },
  {
   "cell_type": "code",
   "execution_count": 4,
   "id": "550ef373",
   "metadata": {},
   "outputs": [
    {
     "name": "stdout",
     "output_type": "stream",
     "text": [
      "torch.Size([65536])\n"
     ]
    },
    {
     "ename": "TypeError",
     "evalue": "matmul(): argument 'other' (position 1) must be Tensor, not generator",
     "output_type": "error",
     "traceback": [
      "\u001b[1;31m---------------------------------------------------------------------------\u001b[0m",
      "\u001b[1;31mTypeError\u001b[0m                                 Traceback (most recent call last)",
      "\u001b[1;32m<ipython-input-4-8d50e9cdf363>\u001b[0m in \u001b[0;36m<module>\u001b[1;34m\u001b[0m\n\u001b[0;32m      4\u001b[0m \u001b[0mposterior\u001b[0m \u001b[1;33m=\u001b[0m \u001b[0mmodel\u001b[0m\u001b[1;33m.\u001b[0m\u001b[0mposterior\u001b[0m\u001b[1;33m(\u001b[0m\u001b[0msource\u001b[0m\u001b[1;33m,\u001b[0m \u001b[0msink\u001b[0m\u001b[1;33m)\u001b[0m\u001b[1;33m\u001b[0m\u001b[1;33m\u001b[0m\u001b[0m\n\u001b[0;32m      5\u001b[0m \u001b[0msamples\u001b[0m \u001b[1;33m=\u001b[0m \u001b[0msampler\u001b[0m\u001b[1;33m(\u001b[0m\u001b[0mposterior\u001b[0m\u001b[1;33m)\u001b[0m\u001b[1;33m\u001b[0m\u001b[1;33m\u001b[0m\u001b[0m\n\u001b[1;32m----> 6\u001b[1;33m \u001b[0mscalarized_samples\u001b[0m \u001b[1;33m=\u001b[0m \u001b[0msamples\u001b[0m\u001b[1;33m.\u001b[0m\u001b[0mmatmul\u001b[0m\u001b[1;33m(\u001b[0m\u001b[0mmodel\u001b[0m\u001b[1;33m.\u001b[0m\u001b[0mparameters\u001b[0m\u001b[1;33m(\u001b[0m\u001b[1;33m)\u001b[0m\u001b[1;33m)\u001b[0m\u001b[1;33m\u001b[0m\u001b[1;33m\u001b[0m\u001b[0m\n\u001b[0m",
      "\u001b[1;31mTypeError\u001b[0m: matmul(): argument 'other' (position 1) must be Tensor, not generator"
     ]
    }
   ],
   "source": [
    "model = PICASSObo()\n",
    "sampler = SobolQMCNormalSampler(num_samples=100, collapse_batch_dims=True)\n",
    "\n",
    "posterior = model.posterior(source, sink)\n",
    "samples = sampler(posterior)\n",
    "scalarized_samples = samples.matmul(model.parameters())"
   ]
  },
  {
   "cell_type": "code",
   "execution_count": 7,
   "id": "ff72b3e3",
   "metadata": {},
   "outputs": [
    {
     "data": {
      "text/plain": [
       "torch.Size([100, 65536, 4098])"
      ]
     },
     "execution_count": 7,
     "metadata": {},
     "output_type": "execute_result"
    }
   ],
   "source": [
    "samples.size()"
   ]
  },
  {
   "cell_type": "code",
   "execution_count": null,
   "id": "291072fa",
   "metadata": {},
   "outputs": [],
   "source": [
    "transformer = nn.Sequential(\n",
    "                nn.Linear(1, 1),\n",
    "                nn.Hardtanh(min_val=0, max_val=4095)\n",
    "            )\n",
    "model = PICASSObo(XY)\n",
    "MCAcquisitionFunction(model, objective=mutual_)"
   ]
  },
  {
   "cell_type": "code",
   "execution_count": null,
   "id": "2e96f3b0",
   "metadata": {},
   "outputs": [],
   "source": []
  }
 ],
 "metadata": {
  "kernelspec": {
   "display_name": "Python 3",
   "language": "python",
   "name": "python3"
  },
  "language_info": {
   "codemirror_mode": {
    "name": "ipython",
    "version": 3
   },
   "file_extension": ".py",
   "mimetype": "text/x-python",
   "name": "python",
   "nbconvert_exporter": "python",
   "pygments_lexer": "ipython3",
   "version": "3.7.10"
  }
 },
 "nbformat": 4,
 "nbformat_minor": 5
}
