{
 "cells": [
  {
   "cell_type": "code",
   "execution_count": 7,
   "id": "b5ca323e",
   "metadata": {},
   "outputs": [
    {
     "data": {
      "text/plain": [
       "<napari._qt.widgets.qt_viewer_dock_widget.QtViewerDockWidget at 0x167c1c1c700>"
      ]
     },
     "execution_count": 7,
     "metadata": {},
     "output_type": "execute_result"
    }
   ],
   "source": [
    "from magicgui import magicgui\n",
    "import napari\n",
    "\n",
    "@magicgui(\n",
    "    auto_call=True,\n",
    "    run_button={\"widget_type\": \"PushButton\", 'label':'run'},\n",
    "    new_pair_button={\"widget_type\": \"PushButton\", 'label':'new pair'},\n",
    "    source={'choices':['None']},\n",
    "    sink={'choices':['None']},\n",
    "    alpha={\"widget_type\": \"FloatSlider\", 'max': 2},\n",
    ")\n",
    "def napari_plugin(\n",
    "    run_button,\n",
    "    new_pair_button,\n",
    "    images: 'napari.types.LayerDataTuple',\n",
    "    source = 'None',\n",
    "    sink = 'None',\n",
    "    alpha: float = 0.0\n",
    ") -> 'napari.types.LayerDataTuple':\n",
    "    \n",
    "    print('test')\n",
    "#     choices = [im for im in images if im[2] == 'images']\n",
    "#     choices = ['None'] + choices\n",
    "    \n",
    "#     print(choices)\n",
    "    \n",
    "#     source_list.choices = choices\n",
    "#     sink_list.choices = choices\n",
    "    \n",
    "    print('source', source)\n",
    "    print('sink', sink)\n",
    "    \n",
    "    if source is not None and sink is not None:\n",
    "        return sink\n",
    "\n",
    "viewer = napari.Viewer()\n",
    "viewer.window.add_dock_widget(napari_plugin)"
   ]
  },
  {
   "cell_type": "code",
   "execution_count": null,
   "id": "b281dce0",
   "metadata": {},
   "outputs": [],
   "source": [
    "from typing import List, Dict, Any\n",
    "# @napari_hook_implementation(specname=\"napari_get_writer\")\n",
    "# def picasso_plugin(path: str, layer_data: List[Tuple[Any, Dict, str]])-> List[str]:\n",
    "#\n",
    "#     for layer in layer_data:\n",
    "#         print(layer)[2]\n",
    "#         if layer[2] == 'image':\n",
    "#             layer_name = layer[2]['name']\n",
    "#             data = layer[0]\n",
    "#             layer[0] = data * 0.5\n",
    "#\n",
    "#     return path"
   ]
  },
  {
   "cell_type": "code",
   "execution_count": 13,
   "id": "e6867a14",
   "metadata": {},
   "outputs": [
    {
     "name": "stdout",
     "output_type": "stream",
     "text": [
      "<module 'napari.types' from 'C:\\\\Users\\\\kpandit\\\\.conda\\\\envs\\\\napari-env\\\\lib\\\\site-packages\\\\napari\\\\types.py'>\n"
     ]
    }
   ],
   "source": [
    "import napari\n",
    "print(napari.types)"
   ]
  },
  {
   "cell_type": "code",
   "execution_count": null,
   "id": "352ff242",
   "metadata": {},
   "outputs": [],
   "source": []
  }
 ],
 "metadata": {
  "kernelspec": {
   "display_name": "Python 3",
   "language": "python",
   "name": "python3"
  },
  "language_info": {
   "codemirror_mode": {
    "name": "ipython",
    "version": 3
   },
   "file_extension": ".py",
   "mimetype": "text/x-python",
   "name": "python",
   "nbconvert_exporter": "python",
   "pygments_lexer": "ipython3",
   "version": "3.9.10"
  }
 },
 "nbformat": 4,
 "nbformat_minor": 5
}
