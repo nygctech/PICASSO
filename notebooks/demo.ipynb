{
 "cells": [
  {
   "cell_type": "code",
   "execution_count": 1,
   "id": "e4580b94",
   "metadata": {
    "scrolled": false
   },
   "outputs": [
    {
     "data": {
      "text/plain": [
       "[<Image layer 'Image' at 0x210add8a7c8>,\n",
       " <Image layer 'Image [1]' at 0x210ade0a788>,\n",
       " <Image layer 'Image [2]' at 0x210ae095708>]"
      ]
     },
     "execution_count": 1,
     "metadata": {},
     "output_type": "execute_result"
    },
    {
     "name": "stdout",
     "output_type": "stream",
     "text": [
      "Using cpu\n",
      "It 10 - total loss: 0.8261041641235352, total MI loss: 0.8109140992164612, total contrast loss: 0.015190064907073975\n",
      "It 20 - total loss: 0.8247361183166504, total MI loss: 0.809617817401886, total contrast loss: 0.015118283219635487\n",
      "It 30 - total loss: 0.8234671354293823, total MI loss: 0.8084245324134827, total contrast loss: 0.01504258532077074\n",
      "It 40 - total loss: 0.8222651481628418, total MI loss: 0.8073008060455322, total contrast loss: 0.01496434211730957\n",
      "It 50 - total loss: 0.8210311532020569, total MI loss: 0.8061438798904419, total contrast loss: 0.014887279830873013\n",
      "It 60 - total loss: 0.8194373250007629, total MI loss: 0.8046280741691589, total contrast loss: 0.014809233136475086\n",
      "It 70 - total loss: 0.8174694180488586, total MI loss: 0.8027408719062805, total contrast loss: 0.014728546142578125\n",
      "It 80 - total loss: 0.8151698112487793, total MI loss: 0.8005246520042419, total contrast loss: 0.014645141549408436\n",
      "It 90 - total loss: 0.8122284412384033, total MI loss: 0.7976691722869873, total contrast loss: 0.014559298753738403\n",
      "It 100 - total loss: 0.8088391423225403, total MI loss: 0.7943684458732605, total contrast loss: 0.014470696449279785\n"
     ]
    }
   ],
   "source": [
    "import napari\n",
    "from skimage.data import astronaut\n",
    "from napari_picasso.napari_picasso import return_widget\n",
    "\n",
    "\n",
    "viewer = napari.Viewer()\n",
    "#widget = PicassoWidget(viewer)\n",
    "widget = return_widget(viewer)\n",
    "viewer.window.add_dock_widget(widget)\n",
    "viewer.add_image(astronaut(), channel_axis=-1)"
   ]
  },
  {
   "cell_type": "code",
   "execution_count": 2,
   "id": "8cacd701",
   "metadata": {
    "scrolled": false
   },
   "outputs": [
    {
     "name": "stdout",
     "output_type": "stream",
     "text": [
      "0\n",
      "from yield_value 0\n",
      "1\n",
      "from yield_value 1\n",
      "2\n",
      "from yield_value 2\n",
      "3\n",
      "from yield_value 3\n",
      "4\n",
      "from yield_value 4\n",
      "5\n",
      "from yield_value 5\n",
      "6\n",
      "from yield_value 6\n",
      "7\n",
      "from yield_value 7\n",
      "8\n",
      "from yield_value 8\n",
      "9\n",
      "from yield_value 9\n",
      "Using cpu\n",
      "It 10 - total loss: 0.8252242207527161, total MI loss: 0.8099648952484131, total contrast loss: 0.01525931991636753\n",
      "It 20 - total loss: 0.8239518404006958, total MI loss: 0.8086955547332764, total contrast loss: 0.015256292186677456\n",
      "It 30 - total loss: 0.822663426399231, total MI loss: 0.8074032068252563, total contrast loss: 0.015260196290910244\n",
      "It 40 - total loss: 0.8212747573852539, total MI loss: 0.8060032725334167, total contrast loss: 0.01527147926390171\n",
      "It 50 - total loss: 0.8192973732948303, total MI loss: 0.8040131330490112, total contrast loss: 0.015284234657883644\n",
      "It 60 - total loss: 0.8171197175979614, total MI loss: 0.8018242716789246, total contrast loss: 0.0152954226359725\n",
      "It 70 - total loss: 0.8144541382789612, total MI loss: 0.799152135848999, total contrast loss: 0.01530198473483324\n",
      "It 80 - total loss: 0.8106123208999634, total MI loss: 0.7953085899353027, total contrast loss: 0.015303748659789562\n",
      "It 90 - total loss: 0.8045651912689209, total MI loss: 0.7892656326293945, total contrast loss: 0.015299588441848755\n",
      "It 100 - total loss: 0.7961721420288086, total MI loss: 0.7808839678764343, total contrast loss: 0.015288186259567738\n"
     ]
    }
   ],
   "source": [
    "from napari.utils import progress\n",
    "from time import sleep\n",
    "from napari.qt.threading import thread_worker\n",
    "\n",
    "\n",
    "pbr = progress(range(10))\n",
    "def pbr_update(i):\n",
    "    pbr.update(i)\n",
    "    if i == 9:\n",
    "        pbr.close()\n",
    "    print(f'from yield_value {i}')\n",
    "    \n",
    "@thread_worker(connect={\"yielded\": pbr_update})\n",
    "def long_running(steps=10, repeats=4, delay=1):\n",
    "    for i in pbr:\n",
    "        print(i)\n",
    "        yield(i)\n",
    "        sleep(delay)\n",
    "\n",
    "\n",
    "    \n",
    "worker = long_running()\n",
    "\n",
    "\n",
    "# steps = 10\n",
    "# pbr = progress(range(steps))\n",
    "# for i in long_running(steps):\n",
    "#     print(i)\n",
    "#     pbr.update(i)\n",
    "# pbr.close()\n",
    "    \n"
   ]
  },
  {
   "cell_type": "code",
   "execution_count": 5,
   "id": "1c8da49e",
   "metadata": {},
   "outputs": [
    {
     "data": {
      "text/plain": [
       "5"
      ]
     },
     "execution_count": 5,
     "metadata": {},
     "output_type": "execute_result"
    }
   ],
   "source": [
    "from napari.utils import progress\n",
    "pbr = progress(range(5,10))\n",
    "pbr.total"
   ]
  },
  {
   "cell_type": "code",
   "execution_count": 10,
   "id": "057d3406",
   "metadata": {
    "scrolled": true
   },
   "outputs": [
    {
     "data": {
      "text/plain": [
       "False"
      ]
     },
     "execution_count": 10,
     "metadata": {},
     "output_type": "execute_result"
    },
    {
     "name": "stdout",
     "output_type": "stream",
     "text": [
      "Using cpu\n",
      "It 10 - total loss: 1.79609215259552, total MI loss: 1.6190526485443115, total contrast loss: 0.1770394742488861\n",
      "It 20 - total loss: 1.793644666671753, total MI loss: 1.6173226833343506, total contrast loss: 0.17632201313972473\n",
      "It 30 - total loss: 1.7902164459228516, total MI loss: 1.6147146224975586, total contrast loss: 0.1755017638206482\n",
      "It 40 - total loss: 1.7855160236358643, total MI loss: 1.6109461784362793, total contrast loss: 0.17456978559494019\n",
      "It 50 - total loss: 1.7789340019226074, total MI loss: 1.6054050922393799, total contrast loss: 0.17352886497974396\n",
      "It 60 - total loss: 1.770835041999817, total MI loss: 1.5984455347061157, total contrast loss: 0.17238953709602356\n",
      "It 70 - total loss: 1.7589645385742188, total MI loss: 1.5878045558929443, total contrast loss: 0.17115992307662964\n",
      "It 80 - total loss: 1.7408010959625244, total MI loss: 1.570955514907837, total contrast loss: 0.16984562575817108\n",
      "It 90 - total loss: 1.7149162292480469, total MI loss: 1.5464686155319214, total contrast loss: 0.1684475839138031\n",
      "It 100 - total loss: 1.6801373958587646, total MI loss: 1.5131746530532837, total contrast loss: 0.16696280241012573\n"
     ]
    }
   ],
   "source": [
    "widget.run_btn.bind(True)\n",
    "widget.run_btn.bind(False)\n",
    "widget.run_btn.get_value()"
   ]
  },
  {
   "cell_type": "code",
   "execution_count": 4,
   "id": "34e78803",
   "metadata": {},
   "outputs": [
    {
     "ename": "AttributeError",
     "evalue": "'PicassoWidget' object has no attribute 'run_btn'",
     "output_type": "error",
     "traceback": [
      "\u001b[1;31m---------------------------------------------------------------------------\u001b[0m",
      "\u001b[1;31mAttributeError\u001b[0m                            Traceback (most recent call last)",
      "\u001b[1;32m<ipython-input-4-d13d160108ec>\u001b[0m in \u001b[0;36m<module>\u001b[1;34m\u001b[0m\n\u001b[1;32m----> 1\u001b[1;33m \u001b[0mwidget\u001b[0m\u001b[1;33m[\u001b[0m\u001b[1;34m'run_btn'\u001b[0m\u001b[1;33m]\u001b[0m\u001b[1;33m\u001b[0m\u001b[1;33m\u001b[0m\u001b[0m\n\u001b[0m",
      "\u001b[1;32m~\\AppData\\Roaming\\Python\\Python37\\site-packages\\magicgui\\widgets\\_bases\\container_widget.py\u001b[0m in \u001b[0;36m__getitem__\u001b[1;34m(self, key)\u001b[0m\n\u001b[0;32m    106\u001b[0m         \u001b[1;34m\"\"\"Get item by integer, str, or slice.\"\"\"\u001b[0m\u001b[1;33m\u001b[0m\u001b[1;33m\u001b[0m\u001b[0m\n\u001b[0;32m    107\u001b[0m         \u001b[1;32mif\u001b[0m \u001b[0misinstance\u001b[0m\u001b[1;33m(\u001b[0m\u001b[0mkey\u001b[0m\u001b[1;33m,\u001b[0m \u001b[0mstr\u001b[0m\u001b[1;33m)\u001b[0m\u001b[1;33m:\u001b[0m\u001b[1;33m\u001b[0m\u001b[1;33m\u001b[0m\u001b[0m\n\u001b[1;32m--> 108\u001b[1;33m             \u001b[1;32mreturn\u001b[0m \u001b[0mself\u001b[0m\u001b[1;33m.\u001b[0m\u001b[0m__getattr__\u001b[0m\u001b[1;33m(\u001b[0m\u001b[0mkey\u001b[0m\u001b[1;33m)\u001b[0m\u001b[1;33m\u001b[0m\u001b[1;33m\u001b[0m\u001b[0m\n\u001b[0m\u001b[0;32m    109\u001b[0m         \u001b[1;32mif\u001b[0m \u001b[0misinstance\u001b[0m\u001b[1;33m(\u001b[0m\u001b[0mkey\u001b[0m\u001b[1;33m,\u001b[0m \u001b[0mslice\u001b[0m\u001b[1;33m)\u001b[0m\u001b[1;33m:\u001b[0m\u001b[1;33m\u001b[0m\u001b[1;33m\u001b[0m\u001b[0m\n\u001b[0;32m    110\u001b[0m             \u001b[1;32mreturn\u001b[0m \u001b[1;33m[\u001b[0m\u001b[0mgetattr\u001b[0m\u001b[1;33m(\u001b[0m\u001b[0mitem\u001b[0m\u001b[1;33m,\u001b[0m \u001b[1;34m\"_inner_widget\"\u001b[0m\u001b[1;33m,\u001b[0m \u001b[0mitem\u001b[0m\u001b[1;33m)\u001b[0m \u001b[1;32mfor\u001b[0m \u001b[0mitem\u001b[0m \u001b[1;32min\u001b[0m \u001b[0mself\u001b[0m\u001b[1;33m.\u001b[0m\u001b[0m_list\u001b[0m\u001b[1;33m[\u001b[0m\u001b[0mkey\u001b[0m\u001b[1;33m]\u001b[0m\u001b[1;33m]\u001b[0m\u001b[1;33m\u001b[0m\u001b[1;33m\u001b[0m\u001b[0m\n",
      "\u001b[1;32m~\\AppData\\Roaming\\Python\\Python37\\site-packages\\magicgui\\widgets\\_bases\\container_widget.py\u001b[0m in \u001b[0;36m__getattr__\u001b[1;34m(self, name)\u001b[0m\n\u001b[0;32m     81\u001b[0m             \u001b[1;32mif\u001b[0m \u001b[0mname\u001b[0m \u001b[1;33m==\u001b[0m \u001b[0mwidget\u001b[0m\u001b[1;33m.\u001b[0m\u001b[0mname\u001b[0m\u001b[1;33m:\u001b[0m\u001b[1;33m\u001b[0m\u001b[1;33m\u001b[0m\u001b[0m\n\u001b[0;32m     82\u001b[0m                 \u001b[1;32mreturn\u001b[0m \u001b[0mwidget\u001b[0m\u001b[1;33m\u001b[0m\u001b[1;33m\u001b[0m\u001b[0m\n\u001b[1;32m---> 83\u001b[1;33m         \u001b[1;32mreturn\u001b[0m \u001b[0mobject\u001b[0m\u001b[1;33m.\u001b[0m\u001b[0m__getattribute__\u001b[0m\u001b[1;33m(\u001b[0m\u001b[0mself\u001b[0m\u001b[1;33m,\u001b[0m \u001b[0mname\u001b[0m\u001b[1;33m)\u001b[0m\u001b[1;33m\u001b[0m\u001b[1;33m\u001b[0m\u001b[0m\n\u001b[0m\u001b[0;32m     84\u001b[0m \u001b[1;33m\u001b[0m\u001b[0m\n\u001b[0;32m     85\u001b[0m     \u001b[1;32mdef\u001b[0m \u001b[0m__setattr__\u001b[0m\u001b[1;33m(\u001b[0m\u001b[0mself\u001b[0m\u001b[1;33m,\u001b[0m \u001b[0mname\u001b[0m\u001b[1;33m:\u001b[0m \u001b[0mstr\u001b[0m\u001b[1;33m,\u001b[0m \u001b[0mvalue\u001b[0m\u001b[1;33m:\u001b[0m \u001b[0mAny\u001b[0m\u001b[1;33m)\u001b[0m\u001b[1;33m:\u001b[0m\u001b[1;33m\u001b[0m\u001b[1;33m\u001b[0m\u001b[0m\n",
      "\u001b[1;31mAttributeError\u001b[0m: 'PicassoWidget' object has no attribute 'run_btn'"
     ]
    }
   ],
   "source": [
    "widget['run_btn']"
   ]
  },
  {
   "cell_type": "code",
   "execution_count": 6,
   "id": "671da1c2",
   "metadata": {},
   "outputs": [
    {
     "name": "stdout",
     "output_type": "stream",
     "text": [
      "training\n",
      "in for loop\n",
      "It 10 - total loss: 1.7959944009780884, total MI loss: 1.6189546585083008, total contrast loss: 0.1770397126674652\n",
      "It 20 - total loss: 1.7938904762268066, total MI loss: 1.617567539215088, total contrast loss: 0.17632290720939636\n",
      "It 30 - total loss: 1.79129159450531, total MI loss: 1.6157886981964111, total contrast loss: 0.17550288140773773\n",
      "It 40 - total loss: 1.787611722946167, total MI loss: 1.6130425930023193, total contrast loss: 0.17456918954849243\n",
      "It 50 - total loss: 1.7816733121871948, total MI loss: 1.6081480979919434, total contrast loss: 0.17352516949176788\n",
      "It 60 - total loss: 1.7726953029632568, total MI loss: 1.6003142595291138, total contrast loss: 0.17238101363182068\n",
      "It 70 - total loss: 1.7594220638275146, total MI loss: 1.5882782936096191, total contrast loss: 0.1711438000202179\n",
      "It 80 - total loss: 1.739220380783081, total MI loss: 1.5694035291671753, total contrast loss: 0.16981683671474457\n",
      "It 90 - total loss: 1.709040641784668, total MI loss: 1.5406367778778076, total contrast loss: 0.16840392351150513\n",
      "It 100 - total loss: 1.6656248569488525, total MI loss: 1.4987192153930664, total contrast loss: 0.16690562665462494\n"
     ]
    }
   ],
   "source": [
    "test = widget.train_model()\n",
    "test.start()"
   ]
  },
  {
   "cell_type": "code",
   "execution_count": 7,
   "id": "aa710169",
   "metadata": {},
   "outputs": [
    {
     "name": "stdout",
     "output_type": "stream",
     "text": [
      "1\n"
     ]
    }
   ],
   "source": [
    "def out_test():\n",
    "    i = 1\n",
    "    def in_test():\n",
    "        print(i)\n",
    "    in_test()\n",
    "        \n",
    "        \n",
    "out_test()"
   ]
  },
  {
   "cell_type": "code",
   "execution_count": 15,
   "id": "98b594f1",
   "metadata": {},
   "outputs": [
    {
     "data": {
      "text/plain": [
       "(array([1], dtype=int64),)"
      ]
     },
     "execution_count": 15,
     "metadata": {},
     "output_type": "execute_result"
    }
   ],
   "source": [
    "np.where(mm[0,:,i] == 1)"
   ]
  },
  {
   "cell_type": "code",
   "execution_count": 14,
   "id": "bb3b21f0",
   "metadata": {},
   "outputs": [
    {
     "data": {
      "text/plain": [
       "1"
      ]
     },
     "execution_count": 14,
     "metadata": {},
     "output_type": "execute_result"
    }
   ],
   "source": [
    "np.where(mm[0,:,i] == 1)[0][0]"
   ]
  },
  {
   "cell_type": "code",
   "execution_count": 21,
   "id": "42d16d36",
   "metadata": {},
   "outputs": [
    {
     "data": {
      "text/plain": [
       "'image'"
      ]
     },
     "execution_count": 21,
     "metadata": {},
     "output_type": "execute_result"
    }
   ],
   "source": [
    "viewer.layers[0].as_layer_data_tuple()[2]"
   ]
  },
  {
   "cell_type": "code",
   "execution_count": 11,
   "id": "b2eb2b09",
   "metadata": {},
   "outputs": [
    {
     "ename": "TypeError",
     "evalue": "isinstance() arg 2 must be a type or tuple of types",
     "output_type": "error",
     "traceback": [
      "\u001b[1;31m---------------------------------------------------------------------------\u001b[0m",
      "\u001b[1;31mTypeError\u001b[0m                                 Traceback (most recent call last)",
      "\u001b[1;32m<ipython-input-11-144a7be55cb3>\u001b[0m in \u001b[0;36m<module>\u001b[1;34m\u001b[0m\n\u001b[1;32m----> 1\u001b[1;33m \u001b[0misinstance\u001b[0m\u001b[1;33m(\u001b[0m\u001b[0mviewer\u001b[0m\u001b[1;33m.\u001b[0m\u001b[0mlayers\u001b[0m\u001b[1;33m[\u001b[0m\u001b[1;36m0\u001b[0m\u001b[1;33m]\u001b[0m\u001b[1;33m,\u001b[0m \u001b[1;34m'napari.layers.image.image.Image'\u001b[0m\u001b[1;33m)\u001b[0m\u001b[1;33m\u001b[0m\u001b[1;33m\u001b[0m\u001b[0m\n\u001b[0m",
      "\u001b[1;31mTypeError\u001b[0m: isinstance() arg 2 must be a type or tuple of types"
     ]
    }
   ],
   "source": [
    "isinstance(viewer.layers[0], 'napari.layers.image.image.Image')"
   ]
  },
  {
   "cell_type": "code",
   "execution_count": 18,
   "id": "cd5f360f",
   "metadata": {},
   "outputs": [
    {
     "ename": "TypeError",
     "evalue": "Can't instantiate abstract class Layer with abstract methods _extent_data, _get_ndim, _get_state, _get_value, _set_view_slice, _update_thumbnail, data",
     "output_type": "error",
     "traceback": [
      "\u001b[1;31m---------------------------------------------------------------------------\u001b[0m",
      "\u001b[1;31mTypeError\u001b[0m                                 Traceback (most recent call last)",
      "\u001b[1;32m<ipython-input-18-b463e972f984>\u001b[0m in \u001b[0;36m<module>\u001b[1;34m\u001b[0m\n\u001b[0;32m      1\u001b[0m \u001b[1;32mimport\u001b[0m \u001b[0mnumpy\u001b[0m \u001b[1;32mas\u001b[0m \u001b[0mnp\u001b[0m\u001b[1;33m\u001b[0m\u001b[1;33m\u001b[0m\u001b[0m\n\u001b[1;32m----> 2\u001b[1;33m \u001b[0mnapari\u001b[0m\u001b[1;33m.\u001b[0m\u001b[0mlayers\u001b[0m\u001b[1;33m.\u001b[0m\u001b[0mLayer\u001b[0m\u001b[1;33m(\u001b[0m\u001b[0mnp\u001b[0m\u001b[1;33m.\u001b[0m\u001b[0mzeros\u001b[0m\u001b[1;33m(\u001b[0m\u001b[1;33m(\u001b[0m\u001b[1;36m10\u001b[0m\u001b[1;33m,\u001b[0m\u001b[1;36m10\u001b[0m\u001b[1;33m)\u001b[0m\u001b[1;33m)\u001b[0m\u001b[1;33m)\u001b[0m\u001b[1;33m\u001b[0m\u001b[1;33m\u001b[0m\u001b[0m\n\u001b[0m",
      "\u001b[1;31mTypeError\u001b[0m: Can't instantiate abstract class Layer with abstract methods _extent_data, _get_ndim, _get_state, _get_value, _set_view_slice, _update_thumbnail, data"
     ]
    }
   ],
   "source": [
    "import numpy as np\n",
    "napari.layers.Layer(np.zeros((10,10)))"
   ]
  },
  {
   "cell_type": "code",
   "execution_count": null,
   "id": "7184c95a",
   "metadata": {},
   "outputs": [],
   "source": []
  }
 ],
 "metadata": {
  "kernelspec": {
   "display_name": "napari-picasso",
   "language": "python",
   "name": "napari-picasso"
  },
  "language_info": {
   "codemirror_mode": {
    "name": "ipython",
    "version": 3
   },
   "file_extension": ".py",
   "mimetype": "text/x-python",
   "name": "python",
   "nbconvert_exporter": "python",
   "pygments_lexer": "ipython3",
   "version": "3.7.9"
  }
 },
 "nbformat": 4,
 "nbformat_minor": 5
}
