{
 "cells": [
  {
   "cell_type": "code",
   "execution_count": 2,
   "id": "e4580b94",
   "metadata": {
    "scrolled": true
   },
   "outputs": [
    {
     "name": "stderr",
     "output_type": "stream",
     "text": [
      "c:\\users\\kpandit\\pyseq2500\\pyseq\\image_analysis.py:955: RuntimeWarning: Failed to open Zarr store with consolidated metadata, falling back to try reading non-consolidated metadata. This is typically much slower for opening a dataset. To silence this warning, consider:\n",
      "1. Consolidating metadata in this existing store with zarr.consolidate_metadata().\n",
      "2. Explicitly setting consolidated=False, to avoid trying to read consolidate metadata, or\n",
      "3. Explicitly setting consolidated=True, to raise an error in this case instead of falling back to try reading non-consolidated metadata.\n",
      "  im = xr.open_zarr(fn).to_array()\n"
     ]
    },
    {
     "name": "stdout",
     "output_type": "stream",
     "text": [
      "ImageAnalysis::Opened m4 \n"
     ]
    },
    {
     "data": {
      "text/plain": [
       "<Image layer 'GFAP' at 0x1b0ac1f2c10>"
      ]
     },
     "execution_count": 2,
     "metadata": {},
     "output_type": "execute_result"
    },
    {
     "name": "stderr",
     "output_type": "stream",
     "text": [
      "C:\\Users\\kpandit\\.conda\\envs\\cuda\\lib\\site-packages\\tqdm\\auto.py:22: TqdmWarning: IProgress not found. Please update jupyter and ipywidgets. See https://ipywidgets.readthedocs.io/en/stable/user_install.html\n",
      "  from .autonotebook import tqdm as notebook_tqdm\n"
     ]
    },
    {
     "name": "stdout",
     "output_type": "stream",
     "text": [
      "Using cuda\n",
      "available memory 2.00 GiB\n",
      "number of images 2\n",
      "6704.3328\n",
      "It 10 - total loss: 0.8100370764732361, total MI loss: 0.8099607825279236, total contrast loss: 7.631182961631566e-05\n",
      "It 20 - total loss: 0.8100892901420593, total MI loss: 0.810013473033905, total contrast loss: 7.582903344882652e-05\n",
      "It 30 - total loss: 0.8101129531860352, total MI loss: 0.8100371956825256, total contrast loss: 7.57634625188075e-05\n",
      "It 40 - total loss: 0.8100488185882568, total MI loss: 0.8099733591079712, total contrast loss: 7.548928260803223e-05\n",
      "It 50 - total loss: 0.8099384903907776, total MI loss: 0.8098636269569397, total contrast loss: 7.483959052478895e-05\n",
      "It 60 - total loss: 0.8099039793014526, total MI loss: 0.8098304271697998, total contrast loss: 7.355213165283203e-05\n",
      "It 70 - total loss: 0.8098901510238647, total MI loss: 0.8098180294036865, total contrast loss: 7.212162017822266e-05\n",
      "It 80 - total loss: 0.809851884841919, total MI loss: 0.8097811937332153, total contrast loss: 7.070899300742894e-05\n",
      "It 90 - total loss: 0.8097835183143616, total MI loss: 0.8097142577171326, total contrast loss: 6.926655623828992e-05\n",
      "It 100 - total loss: 0.8097131252288818, total MI loss: 0.809645414352417, total contrast loss: 6.774067878723145e-05\n",
      "added unmixed_GFAP\n"
     ]
    }
   ],
   "source": [
    "import napari\n",
    "from skimage.data import astronaut\n",
    "from napari_picasso.main_widget import PicassoWidget\n",
    "from pyseq import image_analysis as ia\n",
    "\n",
    "#image_path = 'Z:\\\\gpfs\\\\commons\\\\groups\\\\nygcfaculty\\\\PySeq\\\\20210323_4i4color\\\\zarrs\\\\m4_o25933_labels.zarr'\n",
    "image_path = 'Z:\\\\gpfs\\\\commons\\\\groups\\\\nygcfaculty\\\\PySeq\\\\20210323_4i4color\\\\zarrs\\\\m4.zarr'\n",
    "o = 25933\n",
    "im = ia.get_HiSeqImages(image_path)\n",
    "cropped_im = im.im.sel(row = slice(3800,4000), col = slice(4100, 4300), cycle=5, obj_step=o)\n",
    "\n",
    "\n",
    "viewer = napari.Viewer()\n",
    "#widget = PicassoWidget(viewer)\n",
    "widget = PicassoWidget(viewer)\n",
    "viewer.window.add_dock_widget(widget)\n",
    "#viewer.add_image(astronaut(), channel_axis=-1)\n",
    "viewer.add_image(cropped_im.sel(channel=558).compute(), name='Laminin1b', blending = 'additive', contrast_limits = (0,4095))\n",
    "viewer.add_image(cropped_im.sel(channel=610).compute(), name='GFAP', blending = 'additive',  contrast_limits = (0,4095))\n",
    "# viewer.add_image(im.im.sel(obj_step = o, channel=687, cycle=5), name='MBP', blending = 'additive')\n",
    "# viewer.add_image(im.im.sel(obj_step = o, channel=740, cycle=5), name='ELAVL2', blending = 'additive')\n"
   ]
  },
  {
   "cell_type": "code",
   "execution_count": 6,
   "id": "edfb77b4",
   "metadata": {},
   "outputs": [
    {
     "name": "stdout",
     "output_type": "stream",
     "text": [
      "0\n"
     ]
    },
    {
     "data": {
      "text/plain": [
       "_CudaDeviceProperties(name='Quadro K620', major=5, minor=0, total_memory=2048MB, multi_processor_count=3)"
      ]
     },
     "execution_count": 6,
     "metadata": {},
     "output_type": "execute_result"
    }
   ],
   "source": [
    "import torch\n",
    "from dask.utils import format_bytes\n",
    "torch.cuda.memory_reserved() - torch.cuda.memory_allocated()\n",
    "print(torch.cuda.memory_reserved())\n",
    "torch.cuda.get_device_properties('cuda')"
   ]
  },
  {
   "cell_type": "code",
   "execution_count": 2,
   "id": "f03d5657",
   "metadata": {},
   "outputs": [
    {
     "ename": "ModuleNotFoundError",
     "evalue": "No module named 'pynvml'",
     "output_type": "error",
     "traceback": [
      "\u001b[1;31m---------------------------------------------------------------------------\u001b[0m",
      "\u001b[1;31mModuleNotFoundError\u001b[0m                       Traceback (most recent call last)",
      "Input \u001b[1;32mIn [2]\u001b[0m, in \u001b[0;36m<cell line: 1>\u001b[1;34m()\u001b[0m\n\u001b[1;32m----> 1\u001b[0m \u001b[38;5;28;01mimport\u001b[39;00m \u001b[38;5;21;01mpynvml\u001b[39;00m\n",
      "\u001b[1;31mModuleNotFoundError\u001b[0m: No module named 'pynvml'"
     ]
    }
   ],
   "source": [
    "import pynvml"
   ]
  },
  {
   "cell_type": "code",
   "execution_count": 13,
   "id": "23e1fabe",
   "metadata": {},
   "outputs": [],
   "source": [
    "import napari\n",
    "import numpy as np\n",
    "from napari_picasso.main_widget import PicassoWidget\n",
    "\n",
    "\n",
    "# Make sink source images\n",
    "s = 512; background = 100; signal = 500; alpha = 0.5\n",
    "\n",
    "sink = np.random.rand(s,s)*10+background\n",
    "sink[:100, :100] += np.random.rand(100,100)*2000+signal\n",
    "\n",
    "source = np.zeros((s,s))\n",
    "source[-100:,-100:] += np.random.rand(100,100)*2000+signal\n",
    "\n",
    "sink += alpha*source\n",
    "source += np.random.rand(s,s)*10+background\n",
    "\n",
    "# Add to viewer\n",
    "viewer = napari.Viewer(show=False)\n",
    "viewer.add_image(sink, name='sink')\n",
    "viewer.add_image(source, name='source')\n",
    "\n",
    "# setup widget\n",
    "widget = PicassoWidget(viewer)\n",
    "widget.add_sink_widget()\n",
    "\n",
    "sink = widget['sink0']\n",
    "sink.sink_list.bind(sink)\n",
    "sink.show_sources()\n",
    "sink.update_mixing_params()\n",
    "\n",
    "for s in widget.sinks:\n",
    "    sink = widget[f'sink{s}']"
   ]
  },
  {
   "cell_type": "code",
   "execution_count": 14,
   "id": "fe8567b4",
   "metadata": {},
   "outputs": [
    {
     "name": "stdout",
     "output_type": "stream",
     "text": [
      "Using cuda\n"
     ]
    },
    {
     "data": {
      "text/plain": [
       "['sink', 'source']"
      ]
     },
     "execution_count": 14,
     "metadata": {},
     "output_type": "execute_result"
    },
    {
     "name": "stdout",
     "output_type": "stream",
     "text": [
      "model sinks 1\n",
      "model images 2\n",
      "n images 2\n",
      "Start training\n",
      "\n",
      "It 10 - total loss: 0.8104085326194763, total MI loss: 0.809951663017273, total contrast loss: 0.00045687556848861277\n",
      "It 20 - total loss: 0.8103855848312378, total MI loss: 0.8099296689033508, total contrast loss: 0.0004559338267426938\n",
      "It 30 - total loss: 0.8103542923927307, total MI loss: 0.8098993301391602, total contrast loss: 0.000454956287285313\n"
     ]
    }
   ],
   "source": [
    "import time\n",
    "from napari_picasso.utils import get_image_layers\n",
    "\n",
    "widget.make_model(max_iter = 100)\n",
    "assert widget._progress.total == 100\n",
    "\n",
    "# start = time.time()\n",
    "# while time.time() <= start+30:\n",
    "#     print(widget._worker.is_running)\n",
    "#     if widget.picasso_params is not None:\n",
    "#         break\n",
    "\n",
    "image_layers = get_image_layers(widget._viewer)\n",
    "image_names = [l.name for l in image_layers]\n",
    "image_names\n"
   ]
  },
  {
   "cell_type": "code",
   "execution_count": 15,
   "id": "e62dc71e",
   "metadata": {},
   "outputs": [
    {
     "name": "stdout",
     "output_type": "stream",
     "text": [
      "['sink', 'source']\n",
      "Finished training\n",
      "\n"
     ]
    }
   ],
   "source": [
    "start = time.time()\n",
    "while time.time() <= start+30:\n",
    "    if widget.picasso_params is not None:\n",
    "        break\n",
    "image_layers = get_image_layers(widget._viewer)\n",
    "image_names = [l.name for l in image_layers]\n",
    "print(image_names)"
   ]
  },
  {
   "cell_type": "code",
   "execution_count": 18,
   "id": "584442f8",
   "metadata": {},
   "outputs": [
    {
     "name": "stdout",
     "output_type": "stream",
     "text": [
      "['sink', 'source']\n"
     ]
    }
   ],
   "source": [
    "image_layers = get_image_layers(widget._viewer)\n",
    "image_names = [l.name for l in image_layers]\n",
    "print(image_names)"
   ]
  },
  {
   "cell_type": "code",
   "execution_count": 2,
   "id": "8cacd701",
   "metadata": {
    "scrolled": false
   },
   "outputs": [
    {
     "name": "stdout",
     "output_type": "stream",
     "text": [
      "0\n",
      "from yield_value 0\n",
      "1\n",
      "from yield_value 1\n",
      "2\n",
      "from yield_value 2\n",
      "3\n",
      "from yield_value 3\n",
      "4\n",
      "from yield_value 4\n",
      "5\n",
      "from yield_value 5\n",
      "6\n",
      "from yield_value 6\n",
      "7\n",
      "from yield_value 7\n",
      "8\n",
      "from yield_value 8\n",
      "9\n",
      "from yield_value 9\n",
      "Using cpu\n",
      "It 10 - total loss: 0.8252242207527161, total MI loss: 0.8099648952484131, total contrast loss: 0.01525931991636753\n",
      "It 20 - total loss: 0.8239518404006958, total MI loss: 0.8086955547332764, total contrast loss: 0.015256292186677456\n",
      "It 30 - total loss: 0.822663426399231, total MI loss: 0.8074032068252563, total contrast loss: 0.015260196290910244\n",
      "It 40 - total loss: 0.8212747573852539, total MI loss: 0.8060032725334167, total contrast loss: 0.01527147926390171\n",
      "It 50 - total loss: 0.8192973732948303, total MI loss: 0.8040131330490112, total contrast loss: 0.015284234657883644\n",
      "It 60 - total loss: 0.8171197175979614, total MI loss: 0.8018242716789246, total contrast loss: 0.0152954226359725\n",
      "It 70 - total loss: 0.8144541382789612, total MI loss: 0.799152135848999, total contrast loss: 0.01530198473483324\n",
      "It 80 - total loss: 0.8106123208999634, total MI loss: 0.7953085899353027, total contrast loss: 0.015303748659789562\n",
      "It 90 - total loss: 0.8045651912689209, total MI loss: 0.7892656326293945, total contrast loss: 0.015299588441848755\n",
      "It 100 - total loss: 0.7961721420288086, total MI loss: 0.7808839678764343, total contrast loss: 0.015288186259567738\n"
     ]
    }
   ],
   "source": [
    "from napari.utils import progress\n",
    "from time import sleep\n",
    "from napari.qt.threading import thread_worker\n",
    "\n",
    "\n",
    "pbr = progress(range(10))\n",
    "def pbr_update(i):\n",
    "    pbr.update(i)\n",
    "    if i == 9:\n",
    "        pbr.close()\n",
    "    print(f'from yield_value {i}')\n",
    "    \n",
    "@thread_worker(connect={\"yielded\": pbr_update})\n",
    "def long_running(steps=10, repeats=4, delay=1):\n",
    "    for i in pbr:\n",
    "        print(i)\n",
    "        yield(i)\n",
    "        sleep(delay)\n",
    "\n",
    "\n",
    "    \n",
    "worker = long_running()\n",
    "\n",
    "\n",
    "# steps = 10\n",
    "# pbr = progress(range(steps))\n",
    "# for i in long_running(steps):\n",
    "#     print(i)\n",
    "#     pbr.update(i)\n",
    "# pbr.close()\n",
    "    \n"
   ]
  },
  {
   "cell_type": "code",
   "execution_count": 5,
   "id": "1c8da49e",
   "metadata": {},
   "outputs": [
    {
     "data": {
      "text/plain": [
       "5"
      ]
     },
     "execution_count": 5,
     "metadata": {},
     "output_type": "execute_result"
    }
   ],
   "source": [
    "from napari.utils import progress\n",
    "pbr = progress(range(5,10))\n",
    "pbr.total"
   ]
  },
  {
   "cell_type": "code",
   "execution_count": 10,
   "id": "057d3406",
   "metadata": {
    "scrolled": true
   },
   "outputs": [
    {
     "data": {
      "text/plain": [
       "False"
      ]
     },
     "execution_count": 10,
     "metadata": {},
     "output_type": "execute_result"
    },
    {
     "name": "stdout",
     "output_type": "stream",
     "text": [
      "Using cpu\n",
      "It 10 - total loss: 1.79609215259552, total MI loss: 1.6190526485443115, total contrast loss: 0.1770394742488861\n",
      "It 20 - total loss: 1.793644666671753, total MI loss: 1.6173226833343506, total contrast loss: 0.17632201313972473\n",
      "It 30 - total loss: 1.7902164459228516, total MI loss: 1.6147146224975586, total contrast loss: 0.1755017638206482\n",
      "It 40 - total loss: 1.7855160236358643, total MI loss: 1.6109461784362793, total contrast loss: 0.17456978559494019\n",
      "It 50 - total loss: 1.7789340019226074, total MI loss: 1.6054050922393799, total contrast loss: 0.17352886497974396\n",
      "It 60 - total loss: 1.770835041999817, total MI loss: 1.5984455347061157, total contrast loss: 0.17238953709602356\n",
      "It 70 - total loss: 1.7589645385742188, total MI loss: 1.5878045558929443, total contrast loss: 0.17115992307662964\n",
      "It 80 - total loss: 1.7408010959625244, total MI loss: 1.570955514907837, total contrast loss: 0.16984562575817108\n",
      "It 90 - total loss: 1.7149162292480469, total MI loss: 1.5464686155319214, total contrast loss: 0.1684475839138031\n",
      "It 100 - total loss: 1.6801373958587646, total MI loss: 1.5131746530532837, total contrast loss: 0.16696280241012573\n"
     ]
    }
   ],
   "source": [
    "widget.run_btn.bind(True)\n",
    "widget.run_btn.bind(False)\n",
    "widget.run_btn.get_value()"
   ]
  },
  {
   "cell_type": "code",
   "execution_count": 4,
   "id": "34e78803",
   "metadata": {},
   "outputs": [
    {
     "ename": "AttributeError",
     "evalue": "'PicassoWidget' object has no attribute 'run_btn'",
     "output_type": "error",
     "traceback": [
      "\u001b[1;31m---------------------------------------------------------------------------\u001b[0m",
      "\u001b[1;31mAttributeError\u001b[0m                            Traceback (most recent call last)",
      "\u001b[1;32m<ipython-input-4-d13d160108ec>\u001b[0m in \u001b[0;36m<module>\u001b[1;34m\u001b[0m\n\u001b[1;32m----> 1\u001b[1;33m \u001b[0mwidget\u001b[0m\u001b[1;33m[\u001b[0m\u001b[1;34m'run_btn'\u001b[0m\u001b[1;33m]\u001b[0m\u001b[1;33m\u001b[0m\u001b[1;33m\u001b[0m\u001b[0m\n\u001b[0m",
      "\u001b[1;32m~\\AppData\\Roaming\\Python\\Python37\\site-packages\\magicgui\\widgets\\_bases\\container_widget.py\u001b[0m in \u001b[0;36m__getitem__\u001b[1;34m(self, key)\u001b[0m\n\u001b[0;32m    106\u001b[0m         \u001b[1;34m\"\"\"Get item by integer, str, or slice.\"\"\"\u001b[0m\u001b[1;33m\u001b[0m\u001b[1;33m\u001b[0m\u001b[0m\n\u001b[0;32m    107\u001b[0m         \u001b[1;32mif\u001b[0m \u001b[0misinstance\u001b[0m\u001b[1;33m(\u001b[0m\u001b[0mkey\u001b[0m\u001b[1;33m,\u001b[0m \u001b[0mstr\u001b[0m\u001b[1;33m)\u001b[0m\u001b[1;33m:\u001b[0m\u001b[1;33m\u001b[0m\u001b[1;33m\u001b[0m\u001b[0m\n\u001b[1;32m--> 108\u001b[1;33m             \u001b[1;32mreturn\u001b[0m \u001b[0mself\u001b[0m\u001b[1;33m.\u001b[0m\u001b[0m__getattr__\u001b[0m\u001b[1;33m(\u001b[0m\u001b[0mkey\u001b[0m\u001b[1;33m)\u001b[0m\u001b[1;33m\u001b[0m\u001b[1;33m\u001b[0m\u001b[0m\n\u001b[0m\u001b[0;32m    109\u001b[0m         \u001b[1;32mif\u001b[0m \u001b[0misinstance\u001b[0m\u001b[1;33m(\u001b[0m\u001b[0mkey\u001b[0m\u001b[1;33m,\u001b[0m \u001b[0mslice\u001b[0m\u001b[1;33m)\u001b[0m\u001b[1;33m:\u001b[0m\u001b[1;33m\u001b[0m\u001b[1;33m\u001b[0m\u001b[0m\n\u001b[0;32m    110\u001b[0m             \u001b[1;32mreturn\u001b[0m \u001b[1;33m[\u001b[0m\u001b[0mgetattr\u001b[0m\u001b[1;33m(\u001b[0m\u001b[0mitem\u001b[0m\u001b[1;33m,\u001b[0m \u001b[1;34m\"_inner_widget\"\u001b[0m\u001b[1;33m,\u001b[0m \u001b[0mitem\u001b[0m\u001b[1;33m)\u001b[0m \u001b[1;32mfor\u001b[0m \u001b[0mitem\u001b[0m \u001b[1;32min\u001b[0m \u001b[0mself\u001b[0m\u001b[1;33m.\u001b[0m\u001b[0m_list\u001b[0m\u001b[1;33m[\u001b[0m\u001b[0mkey\u001b[0m\u001b[1;33m]\u001b[0m\u001b[1;33m]\u001b[0m\u001b[1;33m\u001b[0m\u001b[1;33m\u001b[0m\u001b[0m\n",
      "\u001b[1;32m~\\AppData\\Roaming\\Python\\Python37\\site-packages\\magicgui\\widgets\\_bases\\container_widget.py\u001b[0m in \u001b[0;36m__getattr__\u001b[1;34m(self, name)\u001b[0m\n\u001b[0;32m     81\u001b[0m             \u001b[1;32mif\u001b[0m \u001b[0mname\u001b[0m \u001b[1;33m==\u001b[0m \u001b[0mwidget\u001b[0m\u001b[1;33m.\u001b[0m\u001b[0mname\u001b[0m\u001b[1;33m:\u001b[0m\u001b[1;33m\u001b[0m\u001b[1;33m\u001b[0m\u001b[0m\n\u001b[0;32m     82\u001b[0m                 \u001b[1;32mreturn\u001b[0m \u001b[0mwidget\u001b[0m\u001b[1;33m\u001b[0m\u001b[1;33m\u001b[0m\u001b[0m\n\u001b[1;32m---> 83\u001b[1;33m         \u001b[1;32mreturn\u001b[0m \u001b[0mobject\u001b[0m\u001b[1;33m.\u001b[0m\u001b[0m__getattribute__\u001b[0m\u001b[1;33m(\u001b[0m\u001b[0mself\u001b[0m\u001b[1;33m,\u001b[0m \u001b[0mname\u001b[0m\u001b[1;33m)\u001b[0m\u001b[1;33m\u001b[0m\u001b[1;33m\u001b[0m\u001b[0m\n\u001b[0m\u001b[0;32m     84\u001b[0m \u001b[1;33m\u001b[0m\u001b[0m\n\u001b[0;32m     85\u001b[0m     \u001b[1;32mdef\u001b[0m \u001b[0m__setattr__\u001b[0m\u001b[1;33m(\u001b[0m\u001b[0mself\u001b[0m\u001b[1;33m,\u001b[0m \u001b[0mname\u001b[0m\u001b[1;33m:\u001b[0m \u001b[0mstr\u001b[0m\u001b[1;33m,\u001b[0m \u001b[0mvalue\u001b[0m\u001b[1;33m:\u001b[0m \u001b[0mAny\u001b[0m\u001b[1;33m)\u001b[0m\u001b[1;33m:\u001b[0m\u001b[1;33m\u001b[0m\u001b[1;33m\u001b[0m\u001b[0m\n",
      "\u001b[1;31mAttributeError\u001b[0m: 'PicassoWidget' object has no attribute 'run_btn'"
     ]
    }
   ],
   "source": [
    "widget['run_btn']"
   ]
  },
  {
   "cell_type": "code",
   "execution_count": 6,
   "id": "671da1c2",
   "metadata": {},
   "outputs": [
    {
     "name": "stdout",
     "output_type": "stream",
     "text": [
      "training\n",
      "in for loop\n",
      "It 10 - total loss: 1.7959944009780884, total MI loss: 1.6189546585083008, total contrast loss: 0.1770397126674652\n",
      "It 20 - total loss: 1.7938904762268066, total MI loss: 1.617567539215088, total contrast loss: 0.17632290720939636\n",
      "It 30 - total loss: 1.79129159450531, total MI loss: 1.6157886981964111, total contrast loss: 0.17550288140773773\n",
      "It 40 - total loss: 1.787611722946167, total MI loss: 1.6130425930023193, total contrast loss: 0.17456918954849243\n",
      "It 50 - total loss: 1.7816733121871948, total MI loss: 1.6081480979919434, total contrast loss: 0.17352516949176788\n",
      "It 60 - total loss: 1.7726953029632568, total MI loss: 1.6003142595291138, total contrast loss: 0.17238101363182068\n",
      "It 70 - total loss: 1.7594220638275146, total MI loss: 1.5882782936096191, total contrast loss: 0.1711438000202179\n",
      "It 80 - total loss: 1.739220380783081, total MI loss: 1.5694035291671753, total contrast loss: 0.16981683671474457\n",
      "It 90 - total loss: 1.709040641784668, total MI loss: 1.5406367778778076, total contrast loss: 0.16840392351150513\n",
      "It 100 - total loss: 1.6656248569488525, total MI loss: 1.4987192153930664, total contrast loss: 0.16690562665462494\n"
     ]
    }
   ],
   "source": [
    "test = widget.train_model()\n",
    "test.start()"
   ]
  },
  {
   "cell_type": "code",
   "execution_count": 7,
   "id": "aa710169",
   "metadata": {},
   "outputs": [
    {
     "name": "stdout",
     "output_type": "stream",
     "text": [
      "1\n"
     ]
    }
   ],
   "source": [
    "def out_test():\n",
    "    i = 1\n",
    "    def in_test():\n",
    "        print(i)\n",
    "    in_test()\n",
    "        \n",
    "        \n",
    "out_test()"
   ]
  },
  {
   "cell_type": "code",
   "execution_count": 15,
   "id": "98b594f1",
   "metadata": {},
   "outputs": [
    {
     "data": {
      "text/plain": [
       "(array([1], dtype=int64),)"
      ]
     },
     "execution_count": 15,
     "metadata": {},
     "output_type": "execute_result"
    }
   ],
   "source": [
    "np.where(mm[0,:,i] == 1)"
   ]
  },
  {
   "cell_type": "code",
   "execution_count": 14,
   "id": "bb3b21f0",
   "metadata": {},
   "outputs": [
    {
     "data": {
      "text/plain": [
       "1"
      ]
     },
     "execution_count": 14,
     "metadata": {},
     "output_type": "execute_result"
    }
   ],
   "source": [
    "np.where(mm[0,:,i] == 1)[0][0]"
   ]
  },
  {
   "cell_type": "code",
   "execution_count": 21,
   "id": "42d16d36",
   "metadata": {},
   "outputs": [
    {
     "data": {
      "text/plain": [
       "'image'"
      ]
     },
     "execution_count": 21,
     "metadata": {},
     "output_type": "execute_result"
    }
   ],
   "source": [
    "viewer.layers[0].as_layer_data_tuple()[2]"
   ]
  },
  {
   "cell_type": "code",
   "execution_count": 11,
   "id": "b2eb2b09",
   "metadata": {},
   "outputs": [
    {
     "ename": "TypeError",
     "evalue": "isinstance() arg 2 must be a type or tuple of types",
     "output_type": "error",
     "traceback": [
      "\u001b[1;31m---------------------------------------------------------------------------\u001b[0m",
      "\u001b[1;31mTypeError\u001b[0m                                 Traceback (most recent call last)",
      "\u001b[1;32m<ipython-input-11-144a7be55cb3>\u001b[0m in \u001b[0;36m<module>\u001b[1;34m\u001b[0m\n\u001b[1;32m----> 1\u001b[1;33m \u001b[0misinstance\u001b[0m\u001b[1;33m(\u001b[0m\u001b[0mviewer\u001b[0m\u001b[1;33m.\u001b[0m\u001b[0mlayers\u001b[0m\u001b[1;33m[\u001b[0m\u001b[1;36m0\u001b[0m\u001b[1;33m]\u001b[0m\u001b[1;33m,\u001b[0m \u001b[1;34m'napari.layers.image.image.Image'\u001b[0m\u001b[1;33m)\u001b[0m\u001b[1;33m\u001b[0m\u001b[1;33m\u001b[0m\u001b[0m\n\u001b[0m",
      "\u001b[1;31mTypeError\u001b[0m: isinstance() arg 2 must be a type or tuple of types"
     ]
    }
   ],
   "source": [
    "isinstance(viewer.layers[0], 'napari.layers.image.image.Image')"
   ]
  },
  {
   "cell_type": "code",
   "execution_count": 18,
   "id": "cd5f360f",
   "metadata": {},
   "outputs": [
    {
     "ename": "TypeError",
     "evalue": "Can't instantiate abstract class Layer with abstract methods _extent_data, _get_ndim, _get_state, _get_value, _set_view_slice, _update_thumbnail, data",
     "output_type": "error",
     "traceback": [
      "\u001b[1;31m---------------------------------------------------------------------------\u001b[0m",
      "\u001b[1;31mTypeError\u001b[0m                                 Traceback (most recent call last)",
      "\u001b[1;32m<ipython-input-18-b463e972f984>\u001b[0m in \u001b[0;36m<module>\u001b[1;34m\u001b[0m\n\u001b[0;32m      1\u001b[0m \u001b[1;32mimport\u001b[0m \u001b[0mnumpy\u001b[0m \u001b[1;32mas\u001b[0m \u001b[0mnp\u001b[0m\u001b[1;33m\u001b[0m\u001b[1;33m\u001b[0m\u001b[0m\n\u001b[1;32m----> 2\u001b[1;33m \u001b[0mnapari\u001b[0m\u001b[1;33m.\u001b[0m\u001b[0mlayers\u001b[0m\u001b[1;33m.\u001b[0m\u001b[0mLayer\u001b[0m\u001b[1;33m(\u001b[0m\u001b[0mnp\u001b[0m\u001b[1;33m.\u001b[0m\u001b[0mzeros\u001b[0m\u001b[1;33m(\u001b[0m\u001b[1;33m(\u001b[0m\u001b[1;36m10\u001b[0m\u001b[1;33m,\u001b[0m\u001b[1;36m10\u001b[0m\u001b[1;33m)\u001b[0m\u001b[1;33m)\u001b[0m\u001b[1;33m)\u001b[0m\u001b[1;33m\u001b[0m\u001b[1;33m\u001b[0m\u001b[0m\n\u001b[0m",
      "\u001b[1;31mTypeError\u001b[0m: Can't instantiate abstract class Layer with abstract methods _extent_data, _get_ndim, _get_state, _get_value, _set_view_slice, _update_thumbnail, data"
     ]
    }
   ],
   "source": [
    "import numpy as np\n",
    "napari.layers.Layer(np.zeros((10,10)))"
   ]
  },
  {
   "cell_type": "code",
   "execution_count": null,
   "id": "7184c95a",
   "metadata": {},
   "outputs": [],
   "source": []
  }
 ],
 "metadata": {
  "kernelspec": {
   "display_name": "cuda",
   "language": "python",
   "name": "cuda"
  },
  "language_info": {
   "codemirror_mode": {
    "name": "ipython",
    "version": 3
   },
   "file_extension": ".py",
   "mimetype": "text/x-python",
   "name": "python",
   "nbconvert_exporter": "python",
   "pygments_lexer": "ipython3",
   "version": "3.9.12"
  }
 },
 "nbformat": 4,
 "nbformat_minor": 5
}
